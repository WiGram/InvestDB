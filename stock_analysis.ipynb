{
 "cells": [
  {
   "cell_type": "code",
   "execution_count": 59,
   "metadata": {},
   "outputs": [],
   "source": [
    "from matplotlib import pyplot as plt\n",
    "import yfinance as yf\n",
    "import pandas as pd\n",
    "import numpy as np\n",
    "import pyarrow as pa"
   ]
  },
  {
   "cell_type": "code",
   "execution_count": 83,
   "metadata": {},
   "outputs": [
    {
     "ename": "OSError",
     "evalue": "[Errno 22] Invalid argument: 'dog_traits_long.csv'",
     "output_type": "error",
     "traceback": [
      "\u001b[1;31m---------------------------------------------------------------------------\u001b[0m",
      "\u001b[1;31mOSError\u001b[0m                                   Traceback (most recent call last)",
      "\u001b[1;32mg:\\My Drive\\Development\\shiny_app_in_python\\stock_analysis.ipynb Cell 2'\u001b[0m in \u001b[0;36m<cell line: 1>\u001b[1;34m()\u001b[0m\n\u001b[1;32m----> <a href='vscode-notebook-cell:/g%3A/My%20Drive/Development/shiny_app_in_python/stock_analysis.ipynb#ch0000023?line=0'>1</a>\u001b[0m pd\u001b[39m.\u001b[39;49mread_csv(\u001b[39m'\u001b[39;49m\u001b[39mdog_traits_long.csv\u001b[39;49m\u001b[39m'\u001b[39;49m)\n",
      "File \u001b[1;32mc:\\Python39\\lib\\site-packages\\pandas\\util\\_decorators.py:311\u001b[0m, in \u001b[0;36mdeprecate_nonkeyword_arguments.<locals>.decorate.<locals>.wrapper\u001b[1;34m(*args, **kwargs)\u001b[0m\n\u001b[0;32m    <a href='file:///c%3A/Python39/lib/site-packages/pandas/util/_decorators.py?line=304'>305</a>\u001b[0m \u001b[39mif\u001b[39;00m \u001b[39mlen\u001b[39m(args) \u001b[39m>\u001b[39m num_allow_args:\n\u001b[0;32m    <a href='file:///c%3A/Python39/lib/site-packages/pandas/util/_decorators.py?line=305'>306</a>\u001b[0m     warnings\u001b[39m.\u001b[39mwarn(\n\u001b[0;32m    <a href='file:///c%3A/Python39/lib/site-packages/pandas/util/_decorators.py?line=306'>307</a>\u001b[0m         msg\u001b[39m.\u001b[39mformat(arguments\u001b[39m=\u001b[39marguments),\n\u001b[0;32m    <a href='file:///c%3A/Python39/lib/site-packages/pandas/util/_decorators.py?line=307'>308</a>\u001b[0m         \u001b[39mFutureWarning\u001b[39;00m,\n\u001b[0;32m    <a href='file:///c%3A/Python39/lib/site-packages/pandas/util/_decorators.py?line=308'>309</a>\u001b[0m         stacklevel\u001b[39m=\u001b[39mstacklevel,\n\u001b[0;32m    <a href='file:///c%3A/Python39/lib/site-packages/pandas/util/_decorators.py?line=309'>310</a>\u001b[0m     )\n\u001b[1;32m--> <a href='file:///c%3A/Python39/lib/site-packages/pandas/util/_decorators.py?line=310'>311</a>\u001b[0m \u001b[39mreturn\u001b[39;00m func(\u001b[39m*\u001b[39margs, \u001b[39m*\u001b[39m\u001b[39m*\u001b[39mkwargs)\n",
      "File \u001b[1;32mc:\\Python39\\lib\\site-packages\\pandas\\io\\parsers\\readers.py:678\u001b[0m, in \u001b[0;36mread_csv\u001b[1;34m(filepath_or_buffer, sep, delimiter, header, names, index_col, usecols, squeeze, prefix, mangle_dupe_cols, dtype, engine, converters, true_values, false_values, skipinitialspace, skiprows, skipfooter, nrows, na_values, keep_default_na, na_filter, verbose, skip_blank_lines, parse_dates, infer_datetime_format, keep_date_col, date_parser, dayfirst, cache_dates, iterator, chunksize, compression, thousands, decimal, lineterminator, quotechar, quoting, doublequote, escapechar, comment, encoding, encoding_errors, dialect, error_bad_lines, warn_bad_lines, on_bad_lines, delim_whitespace, low_memory, memory_map, float_precision, storage_options)\u001b[0m\n\u001b[0;32m    <a href='file:///c%3A/Python39/lib/site-packages/pandas/io/parsers/readers.py?line=662'>663</a>\u001b[0m kwds_defaults \u001b[39m=\u001b[39m _refine_defaults_read(\n\u001b[0;32m    <a href='file:///c%3A/Python39/lib/site-packages/pandas/io/parsers/readers.py?line=663'>664</a>\u001b[0m     dialect,\n\u001b[0;32m    <a href='file:///c%3A/Python39/lib/site-packages/pandas/io/parsers/readers.py?line=664'>665</a>\u001b[0m     delimiter,\n\u001b[1;32m   (...)\u001b[0m\n\u001b[0;32m    <a href='file:///c%3A/Python39/lib/site-packages/pandas/io/parsers/readers.py?line=673'>674</a>\u001b[0m     defaults\u001b[39m=\u001b[39m{\u001b[39m\"\u001b[39m\u001b[39mdelimiter\u001b[39m\u001b[39m\"\u001b[39m: \u001b[39m\"\u001b[39m\u001b[39m,\u001b[39m\u001b[39m\"\u001b[39m},\n\u001b[0;32m    <a href='file:///c%3A/Python39/lib/site-packages/pandas/io/parsers/readers.py?line=674'>675</a>\u001b[0m )\n\u001b[0;32m    <a href='file:///c%3A/Python39/lib/site-packages/pandas/io/parsers/readers.py?line=675'>676</a>\u001b[0m kwds\u001b[39m.\u001b[39mupdate(kwds_defaults)\n\u001b[1;32m--> <a href='file:///c%3A/Python39/lib/site-packages/pandas/io/parsers/readers.py?line=677'>678</a>\u001b[0m \u001b[39mreturn\u001b[39;00m _read(filepath_or_buffer, kwds)\n",
      "File \u001b[1;32mc:\\Python39\\lib\\site-packages\\pandas\\io\\parsers\\readers.py:575\u001b[0m, in \u001b[0;36m_read\u001b[1;34m(filepath_or_buffer, kwds)\u001b[0m\n\u001b[0;32m    <a href='file:///c%3A/Python39/lib/site-packages/pandas/io/parsers/readers.py?line=571'>572</a>\u001b[0m _validate_names(kwds\u001b[39m.\u001b[39mget(\u001b[39m\"\u001b[39m\u001b[39mnames\u001b[39m\u001b[39m\"\u001b[39m, \u001b[39mNone\u001b[39;00m))\n\u001b[0;32m    <a href='file:///c%3A/Python39/lib/site-packages/pandas/io/parsers/readers.py?line=573'>574</a>\u001b[0m \u001b[39m# Create the parser.\u001b[39;00m\n\u001b[1;32m--> <a href='file:///c%3A/Python39/lib/site-packages/pandas/io/parsers/readers.py?line=574'>575</a>\u001b[0m parser \u001b[39m=\u001b[39m TextFileReader(filepath_or_buffer, \u001b[39m*\u001b[39m\u001b[39m*\u001b[39mkwds)\n\u001b[0;32m    <a href='file:///c%3A/Python39/lib/site-packages/pandas/io/parsers/readers.py?line=576'>577</a>\u001b[0m \u001b[39mif\u001b[39;00m chunksize \u001b[39mor\u001b[39;00m iterator:\n\u001b[0;32m    <a href='file:///c%3A/Python39/lib/site-packages/pandas/io/parsers/readers.py?line=577'>578</a>\u001b[0m     \u001b[39mreturn\u001b[39;00m parser\n",
      "File \u001b[1;32mc:\\Python39\\lib\\site-packages\\pandas\\io\\parsers\\readers.py:932\u001b[0m, in \u001b[0;36mTextFileReader.__init__\u001b[1;34m(self, f, engine, **kwds)\u001b[0m\n\u001b[0;32m    <a href='file:///c%3A/Python39/lib/site-packages/pandas/io/parsers/readers.py?line=928'>929</a>\u001b[0m     \u001b[39mself\u001b[39m\u001b[39m.\u001b[39moptions[\u001b[39m\"\u001b[39m\u001b[39mhas_index_names\u001b[39m\u001b[39m\"\u001b[39m] \u001b[39m=\u001b[39m kwds[\u001b[39m\"\u001b[39m\u001b[39mhas_index_names\u001b[39m\u001b[39m\"\u001b[39m]\n\u001b[0;32m    <a href='file:///c%3A/Python39/lib/site-packages/pandas/io/parsers/readers.py?line=930'>931</a>\u001b[0m \u001b[39mself\u001b[39m\u001b[39m.\u001b[39mhandles: IOHandles \u001b[39m|\u001b[39m \u001b[39mNone\u001b[39;00m \u001b[39m=\u001b[39m \u001b[39mNone\u001b[39;00m\n\u001b[1;32m--> <a href='file:///c%3A/Python39/lib/site-packages/pandas/io/parsers/readers.py?line=931'>932</a>\u001b[0m \u001b[39mself\u001b[39m\u001b[39m.\u001b[39m_engine \u001b[39m=\u001b[39m \u001b[39mself\u001b[39;49m\u001b[39m.\u001b[39;49m_make_engine(f, \u001b[39mself\u001b[39;49m\u001b[39m.\u001b[39;49mengine)\n",
      "File \u001b[1;32mc:\\Python39\\lib\\site-packages\\pandas\\io\\parsers\\readers.py:1216\u001b[0m, in \u001b[0;36mTextFileReader._make_engine\u001b[1;34m(self, f, engine)\u001b[0m\n\u001b[0;32m   <a href='file:///c%3A/Python39/lib/site-packages/pandas/io/parsers/readers.py?line=1211'>1212</a>\u001b[0m     mode \u001b[39m=\u001b[39m \u001b[39m\"\u001b[39m\u001b[39mrb\u001b[39m\u001b[39m\"\u001b[39m\n\u001b[0;32m   <a href='file:///c%3A/Python39/lib/site-packages/pandas/io/parsers/readers.py?line=1212'>1213</a>\u001b[0m \u001b[39m# error: No overload variant of \"get_handle\" matches argument types\u001b[39;00m\n\u001b[0;32m   <a href='file:///c%3A/Python39/lib/site-packages/pandas/io/parsers/readers.py?line=1213'>1214</a>\u001b[0m \u001b[39m# \"Union[str, PathLike[str], ReadCsvBuffer[bytes], ReadCsvBuffer[str]]\"\u001b[39;00m\n\u001b[0;32m   <a href='file:///c%3A/Python39/lib/site-packages/pandas/io/parsers/readers.py?line=1214'>1215</a>\u001b[0m \u001b[39m# , \"str\", \"bool\", \"Any\", \"Any\", \"Any\", \"Any\", \"Any\"\u001b[39;00m\n\u001b[1;32m-> <a href='file:///c%3A/Python39/lib/site-packages/pandas/io/parsers/readers.py?line=1215'>1216</a>\u001b[0m \u001b[39mself\u001b[39m\u001b[39m.\u001b[39mhandles \u001b[39m=\u001b[39m get_handle(  \u001b[39m# type: ignore[call-overload]\u001b[39;49;00m\n\u001b[0;32m   <a href='file:///c%3A/Python39/lib/site-packages/pandas/io/parsers/readers.py?line=1216'>1217</a>\u001b[0m     f,\n\u001b[0;32m   <a href='file:///c%3A/Python39/lib/site-packages/pandas/io/parsers/readers.py?line=1217'>1218</a>\u001b[0m     mode,\n\u001b[0;32m   <a href='file:///c%3A/Python39/lib/site-packages/pandas/io/parsers/readers.py?line=1218'>1219</a>\u001b[0m     encoding\u001b[39m=\u001b[39;49m\u001b[39mself\u001b[39;49m\u001b[39m.\u001b[39;49moptions\u001b[39m.\u001b[39;49mget(\u001b[39m\"\u001b[39;49m\u001b[39mencoding\u001b[39;49m\u001b[39m\"\u001b[39;49m, \u001b[39mNone\u001b[39;49;00m),\n\u001b[0;32m   <a href='file:///c%3A/Python39/lib/site-packages/pandas/io/parsers/readers.py?line=1219'>1220</a>\u001b[0m     compression\u001b[39m=\u001b[39;49m\u001b[39mself\u001b[39;49m\u001b[39m.\u001b[39;49moptions\u001b[39m.\u001b[39;49mget(\u001b[39m\"\u001b[39;49m\u001b[39mcompression\u001b[39;49m\u001b[39m\"\u001b[39;49m, \u001b[39mNone\u001b[39;49;00m),\n\u001b[0;32m   <a href='file:///c%3A/Python39/lib/site-packages/pandas/io/parsers/readers.py?line=1220'>1221</a>\u001b[0m     memory_map\u001b[39m=\u001b[39;49m\u001b[39mself\u001b[39;49m\u001b[39m.\u001b[39;49moptions\u001b[39m.\u001b[39;49mget(\u001b[39m\"\u001b[39;49m\u001b[39mmemory_map\u001b[39;49m\u001b[39m\"\u001b[39;49m, \u001b[39mFalse\u001b[39;49;00m),\n\u001b[0;32m   <a href='file:///c%3A/Python39/lib/site-packages/pandas/io/parsers/readers.py?line=1221'>1222</a>\u001b[0m     is_text\u001b[39m=\u001b[39;49mis_text,\n\u001b[0;32m   <a href='file:///c%3A/Python39/lib/site-packages/pandas/io/parsers/readers.py?line=1222'>1223</a>\u001b[0m     errors\u001b[39m=\u001b[39;49m\u001b[39mself\u001b[39;49m\u001b[39m.\u001b[39;49moptions\u001b[39m.\u001b[39;49mget(\u001b[39m\"\u001b[39;49m\u001b[39mencoding_errors\u001b[39;49m\u001b[39m\"\u001b[39;49m, \u001b[39m\"\u001b[39;49m\u001b[39mstrict\u001b[39;49m\u001b[39m\"\u001b[39;49m),\n\u001b[0;32m   <a href='file:///c%3A/Python39/lib/site-packages/pandas/io/parsers/readers.py?line=1223'>1224</a>\u001b[0m     storage_options\u001b[39m=\u001b[39;49m\u001b[39mself\u001b[39;49m\u001b[39m.\u001b[39;49moptions\u001b[39m.\u001b[39;49mget(\u001b[39m\"\u001b[39;49m\u001b[39mstorage_options\u001b[39;49m\u001b[39m\"\u001b[39;49m, \u001b[39mNone\u001b[39;49;00m),\n\u001b[0;32m   <a href='file:///c%3A/Python39/lib/site-packages/pandas/io/parsers/readers.py?line=1224'>1225</a>\u001b[0m )\n\u001b[0;32m   <a href='file:///c%3A/Python39/lib/site-packages/pandas/io/parsers/readers.py?line=1225'>1226</a>\u001b[0m \u001b[39massert\u001b[39;00m \u001b[39mself\u001b[39m\u001b[39m.\u001b[39mhandles \u001b[39mis\u001b[39;00m \u001b[39mnot\u001b[39;00m \u001b[39mNone\u001b[39;00m\n\u001b[0;32m   <a href='file:///c%3A/Python39/lib/site-packages/pandas/io/parsers/readers.py?line=1226'>1227</a>\u001b[0m f \u001b[39m=\u001b[39m \u001b[39mself\u001b[39m\u001b[39m.\u001b[39mhandles\u001b[39m.\u001b[39mhandle\n",
      "File \u001b[1;32mc:\\Python39\\lib\\site-packages\\pandas\\io\\common.py:786\u001b[0m, in \u001b[0;36mget_handle\u001b[1;34m(path_or_buf, mode, encoding, compression, memory_map, is_text, errors, storage_options)\u001b[0m\n\u001b[0;32m    <a href='file:///c%3A/Python39/lib/site-packages/pandas/io/common.py?line=780'>781</a>\u001b[0m \u001b[39melif\u001b[39;00m \u001b[39misinstance\u001b[39m(handle, \u001b[39mstr\u001b[39m):\n\u001b[0;32m    <a href='file:///c%3A/Python39/lib/site-packages/pandas/io/common.py?line=781'>782</a>\u001b[0m     \u001b[39m# Check whether the filename is to be opened in binary mode.\u001b[39;00m\n\u001b[0;32m    <a href='file:///c%3A/Python39/lib/site-packages/pandas/io/common.py?line=782'>783</a>\u001b[0m     \u001b[39m# Binary mode does not support 'encoding' and 'newline'.\u001b[39;00m\n\u001b[0;32m    <a href='file:///c%3A/Python39/lib/site-packages/pandas/io/common.py?line=783'>784</a>\u001b[0m     \u001b[39mif\u001b[39;00m ioargs\u001b[39m.\u001b[39mencoding \u001b[39mand\u001b[39;00m \u001b[39m\"\u001b[39m\u001b[39mb\u001b[39m\u001b[39m\"\u001b[39m \u001b[39mnot\u001b[39;00m \u001b[39min\u001b[39;00m ioargs\u001b[39m.\u001b[39mmode:\n\u001b[0;32m    <a href='file:///c%3A/Python39/lib/site-packages/pandas/io/common.py?line=784'>785</a>\u001b[0m         \u001b[39m# Encoding\u001b[39;00m\n\u001b[1;32m--> <a href='file:///c%3A/Python39/lib/site-packages/pandas/io/common.py?line=785'>786</a>\u001b[0m         handle \u001b[39m=\u001b[39m \u001b[39mopen\u001b[39;49m(\n\u001b[0;32m    <a href='file:///c%3A/Python39/lib/site-packages/pandas/io/common.py?line=786'>787</a>\u001b[0m             handle,\n\u001b[0;32m    <a href='file:///c%3A/Python39/lib/site-packages/pandas/io/common.py?line=787'>788</a>\u001b[0m             ioargs\u001b[39m.\u001b[39;49mmode,\n\u001b[0;32m    <a href='file:///c%3A/Python39/lib/site-packages/pandas/io/common.py?line=788'>789</a>\u001b[0m             encoding\u001b[39m=\u001b[39;49mioargs\u001b[39m.\u001b[39;49mencoding,\n\u001b[0;32m    <a href='file:///c%3A/Python39/lib/site-packages/pandas/io/common.py?line=789'>790</a>\u001b[0m             errors\u001b[39m=\u001b[39;49merrors,\n\u001b[0;32m    <a href='file:///c%3A/Python39/lib/site-packages/pandas/io/common.py?line=790'>791</a>\u001b[0m             newline\u001b[39m=\u001b[39;49m\u001b[39m\"\u001b[39;49m\u001b[39m\"\u001b[39;49m,\n\u001b[0;32m    <a href='file:///c%3A/Python39/lib/site-packages/pandas/io/common.py?line=791'>792</a>\u001b[0m         )\n\u001b[0;32m    <a href='file:///c%3A/Python39/lib/site-packages/pandas/io/common.py?line=792'>793</a>\u001b[0m     \u001b[39melse\u001b[39;00m:\n\u001b[0;32m    <a href='file:///c%3A/Python39/lib/site-packages/pandas/io/common.py?line=793'>794</a>\u001b[0m         \u001b[39m# Binary mode\u001b[39;00m\n\u001b[0;32m    <a href='file:///c%3A/Python39/lib/site-packages/pandas/io/common.py?line=794'>795</a>\u001b[0m         handle \u001b[39m=\u001b[39m \u001b[39mopen\u001b[39m(handle, ioargs\u001b[39m.\u001b[39mmode)\n",
      "\u001b[1;31mOSError\u001b[0m: [Errno 22] Invalid argument: 'dog_traits_long.csv'"
     ]
    }
   ],
   "source": [
    "pd.read_csv('dog_traits_long.csv')"
   ]
  },
  {
   "cell_type": "code",
   "execution_count": 75,
   "metadata": {},
   "outputs": [
    {
     "ename": "FileNotFoundError",
     "evalue": "[Errno 2] No such file or directory: '..\\\\Data\\\\stock_df.parquet'",
     "output_type": "error",
     "traceback": [
      "\u001b[1;31m---------------------------------------------------------------------------\u001b[0m",
      "\u001b[1;31mFileNotFoundError\u001b[0m                         Traceback (most recent call last)",
      "\u001b[1;32mg:\\My Drive\\Development\\shiny_app_in_python\\stock_analysis.ipynb Cell 3'\u001b[0m in \u001b[0;36m<cell line: 1>\u001b[1;34m()\u001b[0m\n\u001b[1;32m----> <a href='vscode-notebook-cell:/g%3A/My%20Drive/Development/shiny_app_in_python/stock_analysis.ipynb#ch0000022?line=0'>1</a>\u001b[0m pd\u001b[39m.\u001b[39;49mread_parquet(path\u001b[39m=\u001b[39;49m\u001b[39m'\u001b[39;49m\u001b[39m..\u001b[39;49m\u001b[39m\\\u001b[39;49m\u001b[39mData\u001b[39;49m\u001b[39m\\\u001b[39;49m\u001b[39mstock_df.parquet\u001b[39;49m\u001b[39m'\u001b[39;49m, engine\u001b[39m=\u001b[39;49m\u001b[39m'\u001b[39;49m\u001b[39mpyarrow\u001b[39;49m\u001b[39m'\u001b[39;49m)\n",
      "File \u001b[1;32mc:\\Python39\\lib\\site-packages\\pandas\\io\\parquet.py:493\u001b[0m, in \u001b[0;36mread_parquet\u001b[1;34m(path, engine, columns, storage_options, use_nullable_dtypes, **kwargs)\u001b[0m\n\u001b[0;32m    <a href='file:///c%3A/Python39/lib/site-packages/pandas/io/parquet.py?line=445'>446</a>\u001b[0m \u001b[39m\"\"\"\u001b[39;00m\n\u001b[0;32m    <a href='file:///c%3A/Python39/lib/site-packages/pandas/io/parquet.py?line=446'>447</a>\u001b[0m \u001b[39mLoad a parquet object from the file path, returning a DataFrame.\u001b[39;00m\n\u001b[0;32m    <a href='file:///c%3A/Python39/lib/site-packages/pandas/io/parquet.py?line=447'>448</a>\u001b[0m \n\u001b[1;32m   (...)\u001b[0m\n\u001b[0;32m    <a href='file:///c%3A/Python39/lib/site-packages/pandas/io/parquet.py?line=488'>489</a>\u001b[0m \u001b[39mDataFrame\u001b[39;00m\n\u001b[0;32m    <a href='file:///c%3A/Python39/lib/site-packages/pandas/io/parquet.py?line=489'>490</a>\u001b[0m \u001b[39m\"\"\"\u001b[39;00m\n\u001b[0;32m    <a href='file:///c%3A/Python39/lib/site-packages/pandas/io/parquet.py?line=490'>491</a>\u001b[0m impl \u001b[39m=\u001b[39m get_engine(engine)\n\u001b[1;32m--> <a href='file:///c%3A/Python39/lib/site-packages/pandas/io/parquet.py?line=492'>493</a>\u001b[0m \u001b[39mreturn\u001b[39;00m impl\u001b[39m.\u001b[39mread(\n\u001b[0;32m    <a href='file:///c%3A/Python39/lib/site-packages/pandas/io/parquet.py?line=493'>494</a>\u001b[0m     path,\n\u001b[0;32m    <a href='file:///c%3A/Python39/lib/site-packages/pandas/io/parquet.py?line=494'>495</a>\u001b[0m     columns\u001b[39m=\u001b[39mcolumns,\n\u001b[0;32m    <a href='file:///c%3A/Python39/lib/site-packages/pandas/io/parquet.py?line=495'>496</a>\u001b[0m     storage_options\u001b[39m=\u001b[39mstorage_options,\n\u001b[0;32m    <a href='file:///c%3A/Python39/lib/site-packages/pandas/io/parquet.py?line=496'>497</a>\u001b[0m     use_nullable_dtypes\u001b[39m=\u001b[39muse_nullable_dtypes,\n\u001b[0;32m    <a href='file:///c%3A/Python39/lib/site-packages/pandas/io/parquet.py?line=497'>498</a>\u001b[0m     \u001b[39m*\u001b[39m\u001b[39m*\u001b[39mkwargs,\n\u001b[0;32m    <a href='file:///c%3A/Python39/lib/site-packages/pandas/io/parquet.py?line=498'>499</a>\u001b[0m )\n",
      "File \u001b[1;32mc:\\Python39\\lib\\site-packages\\pandas\\io\\parquet.py:233\u001b[0m, in \u001b[0;36mPyArrowImpl.read\u001b[1;34m(self, path, columns, use_nullable_dtypes, storage_options, **kwargs)\u001b[0m\n\u001b[0;32m    <a href='file:///c%3A/Python39/lib/site-packages/pandas/io/parquet.py?line=229'>230</a>\u001b[0m \u001b[39mif\u001b[39;00m manager \u001b[39m==\u001b[39m \u001b[39m\"\u001b[39m\u001b[39marray\u001b[39m\u001b[39m\"\u001b[39m:\n\u001b[0;32m    <a href='file:///c%3A/Python39/lib/site-packages/pandas/io/parquet.py?line=230'>231</a>\u001b[0m     to_pandas_kwargs[\u001b[39m\"\u001b[39m\u001b[39msplit_blocks\u001b[39m\u001b[39m\"\u001b[39m] \u001b[39m=\u001b[39m \u001b[39mTrue\u001b[39;00m  \u001b[39m# type: ignore[assignment]\u001b[39;00m\n\u001b[1;32m--> <a href='file:///c%3A/Python39/lib/site-packages/pandas/io/parquet.py?line=232'>233</a>\u001b[0m path_or_handle, handles, kwargs[\u001b[39m\"\u001b[39m\u001b[39mfilesystem\u001b[39m\u001b[39m\"\u001b[39m] \u001b[39m=\u001b[39m _get_path_or_handle(\n\u001b[0;32m    <a href='file:///c%3A/Python39/lib/site-packages/pandas/io/parquet.py?line=233'>234</a>\u001b[0m     path,\n\u001b[0;32m    <a href='file:///c%3A/Python39/lib/site-packages/pandas/io/parquet.py?line=234'>235</a>\u001b[0m     kwargs\u001b[39m.\u001b[39;49mpop(\u001b[39m\"\u001b[39;49m\u001b[39mfilesystem\u001b[39;49m\u001b[39m\"\u001b[39;49m, \u001b[39mNone\u001b[39;49;00m),\n\u001b[0;32m    <a href='file:///c%3A/Python39/lib/site-packages/pandas/io/parquet.py?line=235'>236</a>\u001b[0m     storage_options\u001b[39m=\u001b[39;49mstorage_options,\n\u001b[0;32m    <a href='file:///c%3A/Python39/lib/site-packages/pandas/io/parquet.py?line=236'>237</a>\u001b[0m     mode\u001b[39m=\u001b[39;49m\u001b[39m\"\u001b[39;49m\u001b[39mrb\u001b[39;49m\u001b[39m\"\u001b[39;49m,\n\u001b[0;32m    <a href='file:///c%3A/Python39/lib/site-packages/pandas/io/parquet.py?line=237'>238</a>\u001b[0m )\n\u001b[0;32m    <a href='file:///c%3A/Python39/lib/site-packages/pandas/io/parquet.py?line=238'>239</a>\u001b[0m \u001b[39mtry\u001b[39;00m:\n\u001b[0;32m    <a href='file:///c%3A/Python39/lib/site-packages/pandas/io/parquet.py?line=239'>240</a>\u001b[0m     result \u001b[39m=\u001b[39m \u001b[39mself\u001b[39m\u001b[39m.\u001b[39mapi\u001b[39m.\u001b[39mparquet\u001b[39m.\u001b[39mread_table(\n\u001b[0;32m    <a href='file:///c%3A/Python39/lib/site-packages/pandas/io/parquet.py?line=240'>241</a>\u001b[0m         path_or_handle, columns\u001b[39m=\u001b[39mcolumns, \u001b[39m*\u001b[39m\u001b[39m*\u001b[39mkwargs\n\u001b[0;32m    <a href='file:///c%3A/Python39/lib/site-packages/pandas/io/parquet.py?line=241'>242</a>\u001b[0m     )\u001b[39m.\u001b[39mto_pandas(\u001b[39m*\u001b[39m\u001b[39m*\u001b[39mto_pandas_kwargs)\n",
      "File \u001b[1;32mc:\\Python39\\lib\\site-packages\\pandas\\io\\parquet.py:102\u001b[0m, in \u001b[0;36m_get_path_or_handle\u001b[1;34m(path, fs, storage_options, mode, is_dir)\u001b[0m\n\u001b[0;32m     <a href='file:///c%3A/Python39/lib/site-packages/pandas/io/parquet.py?line=91'>92</a>\u001b[0m handles \u001b[39m=\u001b[39m \u001b[39mNone\u001b[39;00m\n\u001b[0;32m     <a href='file:///c%3A/Python39/lib/site-packages/pandas/io/parquet.py?line=92'>93</a>\u001b[0m \u001b[39mif\u001b[39;00m (\n\u001b[0;32m     <a href='file:///c%3A/Python39/lib/site-packages/pandas/io/parquet.py?line=93'>94</a>\u001b[0m     \u001b[39mnot\u001b[39;00m fs\n\u001b[0;32m     <a href='file:///c%3A/Python39/lib/site-packages/pandas/io/parquet.py?line=94'>95</a>\u001b[0m     \u001b[39mand\u001b[39;00m \u001b[39mnot\u001b[39;00m is_dir\n\u001b[1;32m   (...)\u001b[0m\n\u001b[0;32m    <a href='file:///c%3A/Python39/lib/site-packages/pandas/io/parquet.py?line=99'>100</a>\u001b[0m     \u001b[39m# fsspec resources can also point to directories\u001b[39;00m\n\u001b[0;32m    <a href='file:///c%3A/Python39/lib/site-packages/pandas/io/parquet.py?line=100'>101</a>\u001b[0m     \u001b[39m# this branch is used for example when reading from non-fsspec URLs\u001b[39;00m\n\u001b[1;32m--> <a href='file:///c%3A/Python39/lib/site-packages/pandas/io/parquet.py?line=101'>102</a>\u001b[0m     handles \u001b[39m=\u001b[39m get_handle(\n\u001b[0;32m    <a href='file:///c%3A/Python39/lib/site-packages/pandas/io/parquet.py?line=102'>103</a>\u001b[0m         path_or_handle, mode, is_text\u001b[39m=\u001b[39;49m\u001b[39mFalse\u001b[39;49;00m, storage_options\u001b[39m=\u001b[39;49mstorage_options\n\u001b[0;32m    <a href='file:///c%3A/Python39/lib/site-packages/pandas/io/parquet.py?line=103'>104</a>\u001b[0m     )\n\u001b[0;32m    <a href='file:///c%3A/Python39/lib/site-packages/pandas/io/parquet.py?line=104'>105</a>\u001b[0m     fs \u001b[39m=\u001b[39m \u001b[39mNone\u001b[39;00m\n\u001b[0;32m    <a href='file:///c%3A/Python39/lib/site-packages/pandas/io/parquet.py?line=105'>106</a>\u001b[0m     path_or_handle \u001b[39m=\u001b[39m handles\u001b[39m.\u001b[39mhandle\n",
      "File \u001b[1;32mc:\\Python39\\lib\\site-packages\\pandas\\io\\common.py:795\u001b[0m, in \u001b[0;36mget_handle\u001b[1;34m(path_or_buf, mode, encoding, compression, memory_map, is_text, errors, storage_options)\u001b[0m\n\u001b[0;32m    <a href='file:///c%3A/Python39/lib/site-packages/pandas/io/common.py?line=785'>786</a>\u001b[0m         handle \u001b[39m=\u001b[39m \u001b[39mopen\u001b[39m(\n\u001b[0;32m    <a href='file:///c%3A/Python39/lib/site-packages/pandas/io/common.py?line=786'>787</a>\u001b[0m             handle,\n\u001b[0;32m    <a href='file:///c%3A/Python39/lib/site-packages/pandas/io/common.py?line=787'>788</a>\u001b[0m             ioargs\u001b[39m.\u001b[39mmode,\n\u001b[1;32m   (...)\u001b[0m\n\u001b[0;32m    <a href='file:///c%3A/Python39/lib/site-packages/pandas/io/common.py?line=790'>791</a>\u001b[0m             newline\u001b[39m=\u001b[39m\u001b[39m\"\u001b[39m\u001b[39m\"\u001b[39m,\n\u001b[0;32m    <a href='file:///c%3A/Python39/lib/site-packages/pandas/io/common.py?line=791'>792</a>\u001b[0m         )\n\u001b[0;32m    <a href='file:///c%3A/Python39/lib/site-packages/pandas/io/common.py?line=792'>793</a>\u001b[0m     \u001b[39melse\u001b[39;00m:\n\u001b[0;32m    <a href='file:///c%3A/Python39/lib/site-packages/pandas/io/common.py?line=793'>794</a>\u001b[0m         \u001b[39m# Binary mode\u001b[39;00m\n\u001b[1;32m--> <a href='file:///c%3A/Python39/lib/site-packages/pandas/io/common.py?line=794'>795</a>\u001b[0m         handle \u001b[39m=\u001b[39m \u001b[39mopen\u001b[39;49m(handle, ioargs\u001b[39m.\u001b[39;49mmode)\n\u001b[0;32m    <a href='file:///c%3A/Python39/lib/site-packages/pandas/io/common.py?line=795'>796</a>\u001b[0m     handles\u001b[39m.\u001b[39mappend(handle)\n\u001b[0;32m    <a href='file:///c%3A/Python39/lib/site-packages/pandas/io/common.py?line=797'>798</a>\u001b[0m \u001b[39m# Convert BytesIO or file objects passed with an encoding\u001b[39;00m\n",
      "\u001b[1;31mFileNotFoundError\u001b[0m: [Errno 2] No such file or directory: '..\\\\Data\\\\stock_df.parquet'"
     ]
    }
   ],
   "source": [
    "pd.read_parquet(path='..\\Data\\stock_df.parquet', engine='pyarrow')"
   ]
  },
  {
   "cell_type": "code",
   "execution_count": 45,
   "metadata": {},
   "outputs": [
    {
     "name": "stdout",
     "output_type": "stream",
     "text": [
      "[*********************100%***********************]  3 of 3 completed\n"
     ]
    }
   ],
   "source": [
    "START_DATE = '2020-01-01'\n",
    "END_DATE = '2022-09-30'\n",
    "TICKERS = 'GOOGL MSFT TSLA'\n",
    "stock_data = yf.download(TICKERS, START_DATE, END_DATE)"
   ]
  },
  {
   "cell_type": "code",
   "execution_count": 46,
   "metadata": {},
   "outputs": [
    {
     "data": {
      "text/plain": [
       "[<matplotlib.lines.Line2D at 0x14bf6ae4670>]"
      ]
     },
     "execution_count": 46,
     "metadata": {},
     "output_type": "execute_result"
    },
    {
     "data": {
      "image/png": "[encoded data removed]",
      "text/plain": [
       "<Figure size 640x480 with 1 Axes>"
      ]
     },
     "metadata": {},
     "output_type": "display_data"
    }
   ],
   "source": [
    "TICKER = 'GOOGL'\n",
    "GOOGL = stock_data['Adj Close'].loc[START_DATE:END_DATE, TICKER]\n",
    "plt.plot(GOOGL)"
   ]
  },
  {
   "cell_type": "code",
   "execution_count": 47,
   "metadata": {},
   "outputs": [
    {
     "name": "stdout",
     "output_type": "stream",
     "text": [
      "Avg. return:  GOOGL    0.041948\n",
      "dtype: float64\n",
      "Volatility:  GOOGL    2.099984\n",
      "dtype: float64\n",
      "VaR99:  GOOGL    5.518997\n",
      "Name: 0.01, dtype: float64\n",
      "VaR95:  GOOGL    3.753502\n",
      "Name: 0.05, dtype: float64\n"
     ]
    }
   ],
   "source": [
    "ret_df = pd.DataFrame(GOOGL.diff().dropna())\n",
    "print('Avg. return: ', ret_df.mean())\n",
    "print('Volatility: ', ret_df.std())\n",
    "print('VaR99: ', np.abs(ret_df.quantile(.01)))\n",
    "print('VaR95: ', np.abs(ret_df.quantile(.05)))"
   ]
  },
  {
   "cell_type": "code",
   "execution_count": 48,
   "metadata": {},
   "outputs": [
    {
     "data": {
      "text/html": [
       "<div>\n",
       "<style scoped>\n",
       "    .dataframe tbody tr th:only-of-type {\n",
       "        vertical-align: middle;\n",
       "    }\n",
       "\n",
       "    .dataframe tbody tr th {\n",
       "        vertical-align: top;\n",
       "    }\n",
       "\n",
       "    .dataframe thead tr th {\n",
       "        text-align: left;\n",
       "    }\n",
       "\n",
       "    .dataframe thead tr:last-of-type th {\n",
       "        text-align: right;\n",
       "    }\n",
       "</style>\n",
       "<table border=\"1\" class=\"dataframe\">\n",
       "  <thead>\n",
       "    <tr>\n",
       "      <th></th>\n",
       "      <th colspan=\"3\" halign=\"left\">Adj Close</th>\n",
       "      <th colspan=\"3\" halign=\"left\">Close</th>\n",
       "      <th colspan=\"3\" halign=\"left\">High</th>\n",
       "      <th colspan=\"3\" halign=\"left\">Low</th>\n",
       "      <th colspan=\"3\" halign=\"left\">Open</th>\n",
       "      <th colspan=\"3\" halign=\"left\">Volume</th>\n",
       "    </tr>\n",
       "    <tr>\n",
       "      <th></th>\n",
       "      <th>GOOGL</th>\n",
       "      <th>MSFT</th>\n",
       "      <th>TSLA</th>\n",
       "      <th>GOOGL</th>\n",
       "      <th>MSFT</th>\n",
       "      <th>TSLA</th>\n",
       "      <th>GOOGL</th>\n",
       "      <th>MSFT</th>\n",
       "      <th>TSLA</th>\n",
       "      <th>GOOGL</th>\n",
       "      <th>MSFT</th>\n",
       "      <th>TSLA</th>\n",
       "      <th>GOOGL</th>\n",
       "      <th>MSFT</th>\n",
       "      <th>TSLA</th>\n",
       "      <th>GOOGL</th>\n",
       "      <th>MSFT</th>\n",
       "      <th>TSLA</th>\n",
       "    </tr>\n",
       "    <tr>\n",
       "      <th>Date</th>\n",
       "      <th></th>\n",
       "      <th></th>\n",
       "      <th></th>\n",
       "      <th></th>\n",
       "      <th></th>\n",
       "      <th></th>\n",
       "      <th></th>\n",
       "      <th></th>\n",
       "      <th></th>\n",
       "      <th></th>\n",
       "      <th></th>\n",
       "      <th></th>\n",
       "      <th></th>\n",
       "      <th></th>\n",
       "      <th></th>\n",
       "      <th></th>\n",
       "      <th></th>\n",
       "      <th></th>\n",
       "    </tr>\n",
       "  </thead>\n",
       "  <tbody>\n",
       "    <tr>\n",
       "      <th>2019-12-31</th>\n",
       "      <td>66.969498</td>\n",
       "      <td>153.745239</td>\n",
       "      <td>27.888666</td>\n",
       "      <td>66.969498</td>\n",
       "      <td>157.699997</td>\n",
       "      <td>27.888666</td>\n",
       "      <td>67.032997</td>\n",
       "      <td>157.770004</td>\n",
       "      <td>28.086000</td>\n",
       "      <td>66.606499</td>\n",
       "      <td>156.449997</td>\n",
       "      <td>26.805332</td>\n",
       "      <td>66.789497</td>\n",
       "      <td>156.770004</td>\n",
       "      <td>27.000000</td>\n",
       "      <td>19514000</td>\n",
       "      <td>18369400</td>\n",
       "      <td>154285500</td>\n",
       "    </tr>\n",
       "    <tr>\n",
       "      <th>2020-01-02</th>\n",
       "      <td>68.433998</td>\n",
       "      <td>156.592026</td>\n",
       "      <td>28.684000</td>\n",
       "      <td>68.433998</td>\n",
       "      <td>160.619995</td>\n",
       "      <td>28.684000</td>\n",
       "      <td>68.433998</td>\n",
       "      <td>160.729996</td>\n",
       "      <td>28.713333</td>\n",
       "      <td>67.324501</td>\n",
       "      <td>158.330002</td>\n",
       "      <td>28.114000</td>\n",
       "      <td>67.420502</td>\n",
       "      <td>158.779999</td>\n",
       "      <td>28.299999</td>\n",
       "      <td>27278000</td>\n",
       "      <td>22622100</td>\n",
       "      <td>142981500</td>\n",
       "    </tr>\n",
       "    <tr>\n",
       "      <th>2020-01-03</th>\n",
       "      <td>68.075996</td>\n",
       "      <td>154.642136</td>\n",
       "      <td>29.534000</td>\n",
       "      <td>68.075996</td>\n",
       "      <td>158.619995</td>\n",
       "      <td>29.534000</td>\n",
       "      <td>68.687500</td>\n",
       "      <td>159.949997</td>\n",
       "      <td>30.266666</td>\n",
       "      <td>67.365997</td>\n",
       "      <td>158.059998</td>\n",
       "      <td>29.128000</td>\n",
       "      <td>67.400002</td>\n",
       "      <td>158.320007</td>\n",
       "      <td>29.366667</td>\n",
       "      <td>23408000</td>\n",
       "      <td>21116200</td>\n",
       "      <td>266677500</td>\n",
       "    </tr>\n",
       "    <tr>\n",
       "      <th>2020-01-06</th>\n",
       "      <td>69.890503</td>\n",
       "      <td>155.041870</td>\n",
       "      <td>30.102667</td>\n",
       "      <td>69.890503</td>\n",
       "      <td>159.029999</td>\n",
       "      <td>30.102667</td>\n",
       "      <td>69.916000</td>\n",
       "      <td>159.100006</td>\n",
       "      <td>30.104000</td>\n",
       "      <td>67.550003</td>\n",
       "      <td>156.509995</td>\n",
       "      <td>29.333332</td>\n",
       "      <td>67.581497</td>\n",
       "      <td>157.080002</td>\n",
       "      <td>29.364668</td>\n",
       "      <td>46768000</td>\n",
       "      <td>20813700</td>\n",
       "      <td>151995000</td>\n",
       "    </tr>\n",
       "    <tr>\n",
       "      <th>2020-01-07</th>\n",
       "      <td>69.755501</td>\n",
       "      <td>153.628265</td>\n",
       "      <td>31.270666</td>\n",
       "      <td>69.755501</td>\n",
       "      <td>157.580002</td>\n",
       "      <td>31.270666</td>\n",
       "      <td>70.175003</td>\n",
       "      <td>159.669998</td>\n",
       "      <td>31.441999</td>\n",
       "      <td>69.578003</td>\n",
       "      <td>157.320007</td>\n",
       "      <td>30.224001</td>\n",
       "      <td>70.023003</td>\n",
       "      <td>159.320007</td>\n",
       "      <td>30.760000</td>\n",
       "      <td>34330000</td>\n",
       "      <td>21634100</td>\n",
       "      <td>268231500</td>\n",
       "    </tr>\n",
       "  </tbody>\n",
       "</table>\n",
       "</div>"
      ],
      "text/plain": [
       "            Adj Close                             Close              \\\n",
       "                GOOGL        MSFT       TSLA      GOOGL        MSFT   \n",
       "Date                                                                  \n",
       "2019-12-31  66.969498  153.745239  27.888666  66.969498  157.699997   \n",
       "2020-01-02  68.433998  156.592026  28.684000  68.433998  160.619995   \n",
       "2020-01-03  68.075996  154.642136  29.534000  68.075996  158.619995   \n",
       "2020-01-06  69.890503  155.041870  30.102667  69.890503  159.029999   \n",
       "2020-01-07  69.755501  153.628265  31.270666  69.755501  157.580002   \n",
       "\n",
       "                            High                               Low  \\\n",
       "                 TSLA      GOOGL        MSFT       TSLA      GOOGL   \n",
       "Date                                                                 \n",
       "2019-12-31  27.888666  67.032997  157.770004  28.086000  66.606499   \n",
       "2020-01-02  28.684000  68.433998  160.729996  28.713333  67.324501   \n",
       "2020-01-03  29.534000  68.687500  159.949997  30.266666  67.365997   \n",
       "2020-01-06  30.102667  69.916000  159.100006  30.104000  67.550003   \n",
       "2020-01-07  31.270666  70.175003  159.669998  31.441999  69.578003   \n",
       "\n",
       "                                        Open                           Volume  \\\n",
       "                  MSFT       TSLA      GOOGL        MSFT       TSLA     GOOGL   \n",
       "Date                                                                            \n",
       "2019-12-31  156.449997  26.805332  66.789497  156.770004  27.000000  19514000   \n",
       "2020-01-02  158.330002  28.114000  67.420502  158.779999  28.299999  27278000   \n",
       "2020-01-03  158.059998  29.128000  67.400002  158.320007  29.366667  23408000   \n",
       "2020-01-06  156.509995  29.333332  67.581497  157.080002  29.364668  46768000   \n",
       "2020-01-07  157.320007  30.224001  70.023003  159.320007  30.760000  34330000   \n",
       "\n",
       "                                 \n",
       "                MSFT       TSLA  \n",
       "Date                             \n",
       "2019-12-31  18369400  154285500  \n",
       "2020-01-02  22622100  142981500  \n",
       "2020-01-03  21116200  266677500  \n",
       "2020-01-06  20813700  151995000  \n",
       "2020-01-07  21634100  268231500  "
      ]
     },
     "execution_count": 48,
     "metadata": {},
     "output_type": "execute_result"
    }
   ],
   "source": [
    "stock_data.head(5)"
   ]
  },
  {
   "cell_type": "code",
   "execution_count": 56,
   "metadata": {},
   "outputs": [
    {
     "data": {
      "text/html": [
       "<div>\n",
       "<style scoped>\n",
       "    .dataframe tbody tr th:only-of-type {\n",
       "        vertical-align: middle;\n",
       "    }\n",
       "\n",
       "    .dataframe tbody tr th {\n",
       "        vertical-align: top;\n",
       "    }\n",
       "\n",
       "    .dataframe thead th {\n",
       "        text-align: right;\n",
       "    }\n",
       "</style>\n",
       "<table border=\"1\" class=\"dataframe\">\n",
       "  <thead>\n",
       "    <tr style=\"text-align: right;\">\n",
       "      <th></th>\n",
       "      <th>Date</th>\n",
       "      <th>Ticker</th>\n",
       "      <th>Adj_Close</th>\n",
       "      <th>Close</th>\n",
       "      <th>High</th>\n",
       "      <th>Low</th>\n",
       "      <th>Open</th>\n",
       "      <th>Volume</th>\n",
       "    </tr>\n",
       "  </thead>\n",
       "  <tbody>\n",
       "    <tr>\n",
       "      <th>0</th>\n",
       "      <td>2022-09-28</td>\n",
       "      <td>GOOGL</td>\n",
       "      <td>100.050003</td>\n",
       "      <td>100.050003</td>\n",
       "      <td>100.699997</td>\n",
       "      <td>97.110001</td>\n",
       "      <td>97.650002</td>\n",
       "      <td>32466300</td>\n",
       "    </tr>\n",
       "    <tr>\n",
       "      <th>1</th>\n",
       "      <td>2022-09-28</td>\n",
       "      <td>MSFT</td>\n",
       "      <td>241.070007</td>\n",
       "      <td>241.070007</td>\n",
       "      <td>242.330002</td>\n",
       "      <td>234.729996</td>\n",
       "      <td>236.809998</td>\n",
       "      <td>29029700</td>\n",
       "    </tr>\n",
       "    <tr>\n",
       "      <th>2</th>\n",
       "      <td>2022-09-28</td>\n",
       "      <td>TSLA</td>\n",
       "      <td>287.809998</td>\n",
       "      <td>287.809998</td>\n",
       "      <td>289.000000</td>\n",
       "      <td>277.570007</td>\n",
       "      <td>283.079987</td>\n",
       "      <td>54664800</td>\n",
       "    </tr>\n",
       "    <tr>\n",
       "      <th>3</th>\n",
       "      <td>2022-09-29</td>\n",
       "      <td>GOOGL</td>\n",
       "      <td>97.419998</td>\n",
       "      <td>97.419998</td>\n",
       "      <td>98.639999</td>\n",
       "      <td>95.959999</td>\n",
       "      <td>98.639999</td>\n",
       "      <td>31047200</td>\n",
       "    </tr>\n",
       "    <tr>\n",
       "      <th>4</th>\n",
       "      <td>2022-09-29</td>\n",
       "      <td>MSFT</td>\n",
       "      <td>237.500000</td>\n",
       "      <td>237.500000</td>\n",
       "      <td>239.949997</td>\n",
       "      <td>234.410004</td>\n",
       "      <td>238.889999</td>\n",
       "      <td>27484200</td>\n",
       "    </tr>\n",
       "  </tbody>\n",
       "</table>\n",
       "</div>"
      ],
      "text/plain": [
       "        Date Ticker   Adj_Close       Close        High         Low  \\\n",
       "0 2022-09-28  GOOGL  100.050003  100.050003  100.699997   97.110001   \n",
       "1 2022-09-28   MSFT  241.070007  241.070007  242.330002  234.729996   \n",
       "2 2022-09-28   TSLA  287.809998  287.809998  289.000000  277.570007   \n",
       "3 2022-09-29  GOOGL   97.419998   97.419998   98.639999   95.959999   \n",
       "4 2022-09-29   MSFT  237.500000  237.500000  239.949997  234.410004   \n",
       "\n",
       "         Open    Volume  \n",
       "0   97.650002  32466300  \n",
       "1  236.809998  29029700  \n",
       "2  283.079987  54664800  \n",
       "3   98.639999  31047200  \n",
       "4  238.889999  27484200  "
      ]
     },
     "execution_count": 56,
     "metadata": {},
     "output_type": "execute_result"
    }
   ],
   "source": [
    "stock_df = stock_data.stack().reset_index().rename(columns={'level_1': 'Ticker'})\n",
    "stock_df.columns = stock_df.columns.str.replace(' ', '_')\n",
    "stock_df.head()"
   ]
  },
  {
   "cell_type": "code",
   "execution_count": 58,
   "metadata": {},
   "outputs": [
    {
     "ename": "OSError",
     "evalue": "[Errno 22] Invalid argument: 'stock_df.parquet'",
     "output_type": "error",
     "traceback": [
      "\u001b[1;31m---------------------------------------------------------------------------\u001b[0m",
      "\u001b[1;31mOSError\u001b[0m                                   Traceback (most recent call last)",
      "\u001b[1;32mg:\\My Drive\\Development\\shiny_app_in_python\\stock_analysis.ipynb Cell 8'\u001b[0m in \u001b[0;36m<cell line: 1>\u001b[1;34m()\u001b[0m\n\u001b[1;32m----> <a href='vscode-notebook-cell:/g%3A/My%20Drive/Development/shiny_app_in_python/stock_analysis.ipynb#ch0000009?line=0'>1</a>\u001b[0m stock_df\u001b[39m.\u001b[39;49mto_parquet(\u001b[39m'\u001b[39;49m\u001b[39mstock_df.parquet\u001b[39;49m\u001b[39m'\u001b[39;49m)\n",
      "File \u001b[1;32mc:\\Python39\\lib\\site-packages\\pandas\\util\\_decorators.py:207\u001b[0m, in \u001b[0;36mdeprecate_kwarg.<locals>._deprecate_kwarg.<locals>.wrapper\u001b[1;34m(*args, **kwargs)\u001b[0m\n\u001b[0;32m    <a href='file:///c%3A/Python39/lib/site-packages/pandas/util/_decorators.py?line=204'>205</a>\u001b[0m     \u001b[39melse\u001b[39;00m:\n\u001b[0;32m    <a href='file:///c%3A/Python39/lib/site-packages/pandas/util/_decorators.py?line=205'>206</a>\u001b[0m         kwargs[new_arg_name] \u001b[39m=\u001b[39m new_arg_value\n\u001b[1;32m--> <a href='file:///c%3A/Python39/lib/site-packages/pandas/util/_decorators.py?line=206'>207</a>\u001b[0m \u001b[39mreturn\u001b[39;00m func(\u001b[39m*\u001b[39margs, \u001b[39m*\u001b[39m\u001b[39m*\u001b[39mkwargs)\n",
      "File \u001b[1;32mc:\\Python39\\lib\\site-packages\\pandas\\core\\frame.py:2835\u001b[0m, in \u001b[0;36mDataFrame.to_parquet\u001b[1;34m(self, path, engine, compression, index, partition_cols, storage_options, **kwargs)\u001b[0m\n\u001b[0;32m   <a href='file:///c%3A/Python39/lib/site-packages/pandas/core/frame.py?line=2748'>2749</a>\u001b[0m \u001b[39m\"\"\"\u001b[39;00m\n\u001b[0;32m   <a href='file:///c%3A/Python39/lib/site-packages/pandas/core/frame.py?line=2749'>2750</a>\u001b[0m \u001b[39mWrite a DataFrame to the binary parquet format.\u001b[39;00m\n\u001b[0;32m   <a href='file:///c%3A/Python39/lib/site-packages/pandas/core/frame.py?line=2750'>2751</a>\u001b[0m \n\u001b[1;32m   (...)\u001b[0m\n\u001b[0;32m   <a href='file:///c%3A/Python39/lib/site-packages/pandas/core/frame.py?line=2830'>2831</a>\u001b[0m \u001b[39m>>> content = f.read()\u001b[39;00m\n\u001b[0;32m   <a href='file:///c%3A/Python39/lib/site-packages/pandas/core/frame.py?line=2831'>2832</a>\u001b[0m \u001b[39m\"\"\"\u001b[39;00m\n\u001b[0;32m   <a href='file:///c%3A/Python39/lib/site-packages/pandas/core/frame.py?line=2832'>2833</a>\u001b[0m \u001b[39mfrom\u001b[39;00m \u001b[39mpandas\u001b[39;00m\u001b[39m.\u001b[39;00m\u001b[39mio\u001b[39;00m\u001b[39m.\u001b[39;00m\u001b[39mparquet\u001b[39;00m \u001b[39mimport\u001b[39;00m to_parquet\n\u001b[1;32m-> <a href='file:///c%3A/Python39/lib/site-packages/pandas/core/frame.py?line=2834'>2835</a>\u001b[0m \u001b[39mreturn\u001b[39;00m to_parquet(\n\u001b[0;32m   <a href='file:///c%3A/Python39/lib/site-packages/pandas/core/frame.py?line=2835'>2836</a>\u001b[0m     \u001b[39mself\u001b[39m,\n\u001b[0;32m   <a href='file:///c%3A/Python39/lib/site-packages/pandas/core/frame.py?line=2836'>2837</a>\u001b[0m     path,\n\u001b[0;32m   <a href='file:///c%3A/Python39/lib/site-packages/pandas/core/frame.py?line=2837'>2838</a>\u001b[0m     engine,\n\u001b[0;32m   <a href='file:///c%3A/Python39/lib/site-packages/pandas/core/frame.py?line=2838'>2839</a>\u001b[0m     compression\u001b[39m=\u001b[39mcompression,\n\u001b[0;32m   <a href='file:///c%3A/Python39/lib/site-packages/pandas/core/frame.py?line=2839'>2840</a>\u001b[0m     index\u001b[39m=\u001b[39mindex,\n\u001b[0;32m   <a href='file:///c%3A/Python39/lib/site-packages/pandas/core/frame.py?line=2840'>2841</a>\u001b[0m     partition_cols\u001b[39m=\u001b[39mpartition_cols,\n\u001b[0;32m   <a href='file:///c%3A/Python39/lib/site-packages/pandas/core/frame.py?line=2841'>2842</a>\u001b[0m     storage_options\u001b[39m=\u001b[39mstorage_options,\n\u001b[0;32m   <a href='file:///c%3A/Python39/lib/site-packages/pandas/core/frame.py?line=2842'>2843</a>\u001b[0m     \u001b[39m*\u001b[39m\u001b[39m*\u001b[39mkwargs,\n\u001b[0;32m   <a href='file:///c%3A/Python39/lib/site-packages/pandas/core/frame.py?line=2843'>2844</a>\u001b[0m )\n",
      "File \u001b[1;32mc:\\Python39\\lib\\site-packages\\pandas\\io\\parquet.py:420\u001b[0m, in \u001b[0;36mto_parquet\u001b[1;34m(df, path, engine, compression, index, storage_options, partition_cols, **kwargs)\u001b[0m\n\u001b[0;32m    <a href='file:///c%3A/Python39/lib/site-packages/pandas/io/parquet.py?line=415'>416</a>\u001b[0m impl \u001b[39m=\u001b[39m get_engine(engine)\n\u001b[0;32m    <a href='file:///c%3A/Python39/lib/site-packages/pandas/io/parquet.py?line=417'>418</a>\u001b[0m path_or_buf: FilePath \u001b[39m|\u001b[39m WriteBuffer[\u001b[39mbytes\u001b[39m] \u001b[39m=\u001b[39m io\u001b[39m.\u001b[39mBytesIO() \u001b[39mif\u001b[39;00m path \u001b[39mis\u001b[39;00m \u001b[39mNone\u001b[39;00m \u001b[39melse\u001b[39;00m path\n\u001b[1;32m--> <a href='file:///c%3A/Python39/lib/site-packages/pandas/io/parquet.py?line=419'>420</a>\u001b[0m impl\u001b[39m.\u001b[39mwrite(\n\u001b[0;32m    <a href='file:///c%3A/Python39/lib/site-packages/pandas/io/parquet.py?line=420'>421</a>\u001b[0m     df,\n\u001b[0;32m    <a href='file:///c%3A/Python39/lib/site-packages/pandas/io/parquet.py?line=421'>422</a>\u001b[0m     path_or_buf,\n\u001b[0;32m    <a href='file:///c%3A/Python39/lib/site-packages/pandas/io/parquet.py?line=422'>423</a>\u001b[0m     compression\u001b[39m=\u001b[39mcompression,\n\u001b[0;32m    <a href='file:///c%3A/Python39/lib/site-packages/pandas/io/parquet.py?line=423'>424</a>\u001b[0m     index\u001b[39m=\u001b[39mindex,\n\u001b[0;32m    <a href='file:///c%3A/Python39/lib/site-packages/pandas/io/parquet.py?line=424'>425</a>\u001b[0m     partition_cols\u001b[39m=\u001b[39mpartition_cols,\n\u001b[0;32m    <a href='file:///c%3A/Python39/lib/site-packages/pandas/io/parquet.py?line=425'>426</a>\u001b[0m     storage_options\u001b[39m=\u001b[39mstorage_options,\n\u001b[0;32m    <a href='file:///c%3A/Python39/lib/site-packages/pandas/io/parquet.py?line=426'>427</a>\u001b[0m     \u001b[39m*\u001b[39m\u001b[39m*\u001b[39mkwargs,\n\u001b[0;32m    <a href='file:///c%3A/Python39/lib/site-packages/pandas/io/parquet.py?line=427'>428</a>\u001b[0m )\n\u001b[0;32m    <a href='file:///c%3A/Python39/lib/site-packages/pandas/io/parquet.py?line=429'>430</a>\u001b[0m \u001b[39mif\u001b[39;00m path \u001b[39mis\u001b[39;00m \u001b[39mNone\u001b[39;00m:\n\u001b[0;32m    <a href='file:///c%3A/Python39/lib/site-packages/pandas/io/parquet.py?line=430'>431</a>\u001b[0m     \u001b[39massert\u001b[39;00m \u001b[39misinstance\u001b[39m(path_or_buf, io\u001b[39m.\u001b[39mBytesIO)\n",
      "File \u001b[1;32mc:\\Python39\\lib\\site-packages\\pandas\\io\\parquet.py:176\u001b[0m, in \u001b[0;36mPyArrowImpl.write\u001b[1;34m(self, df, path, compression, index, storage_options, partition_cols, **kwargs)\u001b[0m\n\u001b[0;32m    <a href='file:///c%3A/Python39/lib/site-packages/pandas/io/parquet.py?line=171'>172</a>\u001b[0m     from_pandas_kwargs[\u001b[39m\"\u001b[39m\u001b[39mpreserve_index\u001b[39m\u001b[39m\"\u001b[39m] \u001b[39m=\u001b[39m index\n\u001b[0;32m    <a href='file:///c%3A/Python39/lib/site-packages/pandas/io/parquet.py?line=173'>174</a>\u001b[0m table \u001b[39m=\u001b[39m \u001b[39mself\u001b[39m\u001b[39m.\u001b[39mapi\u001b[39m.\u001b[39mTable\u001b[39m.\u001b[39mfrom_pandas(df, \u001b[39m*\u001b[39m\u001b[39m*\u001b[39mfrom_pandas_kwargs)\n\u001b[1;32m--> <a href='file:///c%3A/Python39/lib/site-packages/pandas/io/parquet.py?line=175'>176</a>\u001b[0m path_or_handle, handles, kwargs[\u001b[39m\"\u001b[39m\u001b[39mfilesystem\u001b[39m\u001b[39m\"\u001b[39m] \u001b[39m=\u001b[39m _get_path_or_handle(\n\u001b[0;32m    <a href='file:///c%3A/Python39/lib/site-packages/pandas/io/parquet.py?line=176'>177</a>\u001b[0m     path,\n\u001b[0;32m    <a href='file:///c%3A/Python39/lib/site-packages/pandas/io/parquet.py?line=177'>178</a>\u001b[0m     kwargs\u001b[39m.\u001b[39;49mpop(\u001b[39m\"\u001b[39;49m\u001b[39mfilesystem\u001b[39;49m\u001b[39m\"\u001b[39;49m, \u001b[39mNone\u001b[39;49;00m),\n\u001b[0;32m    <a href='file:///c%3A/Python39/lib/site-packages/pandas/io/parquet.py?line=178'>179</a>\u001b[0m     storage_options\u001b[39m=\u001b[39;49mstorage_options,\n\u001b[0;32m    <a href='file:///c%3A/Python39/lib/site-packages/pandas/io/parquet.py?line=179'>180</a>\u001b[0m     mode\u001b[39m=\u001b[39;49m\u001b[39m\"\u001b[39;49m\u001b[39mwb\u001b[39;49m\u001b[39m\"\u001b[39;49m,\n\u001b[0;32m    <a href='file:///c%3A/Python39/lib/site-packages/pandas/io/parquet.py?line=180'>181</a>\u001b[0m     is_dir\u001b[39m=\u001b[39;49mpartition_cols \u001b[39mis\u001b[39;49;00m \u001b[39mnot\u001b[39;49;00m \u001b[39mNone\u001b[39;49;00m,\n\u001b[0;32m    <a href='file:///c%3A/Python39/lib/site-packages/pandas/io/parquet.py?line=181'>182</a>\u001b[0m )\n\u001b[0;32m    <a href='file:///c%3A/Python39/lib/site-packages/pandas/io/parquet.py?line=182'>183</a>\u001b[0m \u001b[39mtry\u001b[39;00m:\n\u001b[0;32m    <a href='file:///c%3A/Python39/lib/site-packages/pandas/io/parquet.py?line=183'>184</a>\u001b[0m     \u001b[39mif\u001b[39;00m partition_cols \u001b[39mis\u001b[39;00m \u001b[39mnot\u001b[39;00m \u001b[39mNone\u001b[39;00m:\n\u001b[0;32m    <a href='file:///c%3A/Python39/lib/site-packages/pandas/io/parquet.py?line=184'>185</a>\u001b[0m         \u001b[39m# writes to multiple files under the given path\u001b[39;00m\n",
      "File \u001b[1;32mc:\\Python39\\lib\\site-packages\\pandas\\io\\parquet.py:102\u001b[0m, in \u001b[0;36m_get_path_or_handle\u001b[1;34m(path, fs, storage_options, mode, is_dir)\u001b[0m\n\u001b[0;32m     <a href='file:///c%3A/Python39/lib/site-packages/pandas/io/parquet.py?line=91'>92</a>\u001b[0m handles \u001b[39m=\u001b[39m \u001b[39mNone\u001b[39;00m\n\u001b[0;32m     <a href='file:///c%3A/Python39/lib/site-packages/pandas/io/parquet.py?line=92'>93</a>\u001b[0m \u001b[39mif\u001b[39;00m (\n\u001b[0;32m     <a href='file:///c%3A/Python39/lib/site-packages/pandas/io/parquet.py?line=93'>94</a>\u001b[0m     \u001b[39mnot\u001b[39;00m fs\n\u001b[0;32m     <a href='file:///c%3A/Python39/lib/site-packages/pandas/io/parquet.py?line=94'>95</a>\u001b[0m     \u001b[39mand\u001b[39;00m \u001b[39mnot\u001b[39;00m is_dir\n\u001b[1;32m   (...)\u001b[0m\n\u001b[0;32m    <a href='file:///c%3A/Python39/lib/site-packages/pandas/io/parquet.py?line=99'>100</a>\u001b[0m     \u001b[39m# fsspec resources can also point to directories\u001b[39;00m\n\u001b[0;32m    <a href='file:///c%3A/Python39/lib/site-packages/pandas/io/parquet.py?line=100'>101</a>\u001b[0m     \u001b[39m# this branch is used for example when reading from non-fsspec URLs\u001b[39;00m\n\u001b[1;32m--> <a href='file:///c%3A/Python39/lib/site-packages/pandas/io/parquet.py?line=101'>102</a>\u001b[0m     handles \u001b[39m=\u001b[39m get_handle(\n\u001b[0;32m    <a href='file:///c%3A/Python39/lib/site-packages/pandas/io/parquet.py?line=102'>103</a>\u001b[0m         path_or_handle, mode, is_text\u001b[39m=\u001b[39;49m\u001b[39mFalse\u001b[39;49;00m, storage_options\u001b[39m=\u001b[39;49mstorage_options\n\u001b[0;32m    <a href='file:///c%3A/Python39/lib/site-packages/pandas/io/parquet.py?line=103'>104</a>\u001b[0m     )\n\u001b[0;32m    <a href='file:///c%3A/Python39/lib/site-packages/pandas/io/parquet.py?line=104'>105</a>\u001b[0m     fs \u001b[39m=\u001b[39m \u001b[39mNone\u001b[39;00m\n\u001b[0;32m    <a href='file:///c%3A/Python39/lib/site-packages/pandas/io/parquet.py?line=105'>106</a>\u001b[0m     path_or_handle \u001b[39m=\u001b[39m handles\u001b[39m.\u001b[39mhandle\n",
      "File \u001b[1;32mc:\\Python39\\lib\\site-packages\\pandas\\io\\common.py:795\u001b[0m, in \u001b[0;36mget_handle\u001b[1;34m(path_or_buf, mode, encoding, compression, memory_map, is_text, errors, storage_options)\u001b[0m\n\u001b[0;32m    <a href='file:///c%3A/Python39/lib/site-packages/pandas/io/common.py?line=785'>786</a>\u001b[0m         handle \u001b[39m=\u001b[39m \u001b[39mopen\u001b[39m(\n\u001b[0;32m    <a href='file:///c%3A/Python39/lib/site-packages/pandas/io/common.py?line=786'>787</a>\u001b[0m             handle,\n\u001b[0;32m    <a href='file:///c%3A/Python39/lib/site-packages/pandas/io/common.py?line=787'>788</a>\u001b[0m             ioargs\u001b[39m.\u001b[39mmode,\n\u001b[1;32m   (...)\u001b[0m\n\u001b[0;32m    <a href='file:///c%3A/Python39/lib/site-packages/pandas/io/common.py?line=790'>791</a>\u001b[0m             newline\u001b[39m=\u001b[39m\u001b[39m\"\u001b[39m\u001b[39m\"\u001b[39m,\n\u001b[0;32m    <a href='file:///c%3A/Python39/lib/site-packages/pandas/io/common.py?line=791'>792</a>\u001b[0m         )\n\u001b[0;32m    <a href='file:///c%3A/Python39/lib/site-packages/pandas/io/common.py?line=792'>793</a>\u001b[0m     \u001b[39melse\u001b[39;00m:\n\u001b[0;32m    <a href='file:///c%3A/Python39/lib/site-packages/pandas/io/common.py?line=793'>794</a>\u001b[0m         \u001b[39m# Binary mode\u001b[39;00m\n\u001b[1;32m--> <a href='file:///c%3A/Python39/lib/site-packages/pandas/io/common.py?line=794'>795</a>\u001b[0m         handle \u001b[39m=\u001b[39m \u001b[39mopen\u001b[39;49m(handle, ioargs\u001b[39m.\u001b[39;49mmode)\n\u001b[0;32m    <a href='file:///c%3A/Python39/lib/site-packages/pandas/io/common.py?line=795'>796</a>\u001b[0m     handles\u001b[39m.\u001b[39mappend(handle)\n\u001b[0;32m    <a href='file:///c%3A/Python39/lib/site-packages/pandas/io/common.py?line=797'>798</a>\u001b[0m \u001b[39m# Convert BytesIO or file objects passed with an encoding\u001b[39;00m\n",
      "\u001b[1;31mOSError\u001b[0m: [Errno 22] Invalid argument: 'stock_df.parquet'"
     ]
    }
   ],
   "source": [
    "stock_df.to_parquet('stock_df.parquet')"
   ]
  },
  {
   "cell_type": "code",
   "execution_count": 52,
   "metadata": {},
   "outputs": [
    {
     "ename": "OSError",
     "evalue": "[Errno 22] Invalid argument: 'Data/stock_df.parquet'",
     "output_type": "error",
     "traceback": [
      "\u001b[1;31m---------------------------------------------------------------------------\u001b[0m",
      "\u001b[1;31mOSError\u001b[0m                                   Traceback (most recent call last)",
      "\u001b[1;32mg:\\My Drive\\Development\\shiny_app_in_python\\stock_analysis.ipynb Cell 9'\u001b[0m in \u001b[0;36m<cell line: 1>\u001b[1;34m()\u001b[0m\n\u001b[1;32m----> <a href='vscode-notebook-cell:/g%3A/My%20Drive/Development/shiny_app_in_python/stock_analysis.ipynb#ch0000008?line=0'>1</a>\u001b[0m stock_df \u001b[39m=\u001b[39m pd\u001b[39m.\u001b[39;49mread_parquet(\u001b[39m'\u001b[39;49m\u001b[39mData/stock_df.parquet\u001b[39;49m\u001b[39m'\u001b[39;49m)\u001b[39m.\u001b[39mhead()\n\u001b[0;32m      <a href='vscode-notebook-cell:/g%3A/My%20Drive/Development/shiny_app_in_python/stock_analysis.ipynb#ch0000008?line=1'>2</a>\u001b[0m stock_df\u001b[39m.\u001b[39mhead()\n",
      "File \u001b[1;32mc:\\Python39\\lib\\site-packages\\pandas\\io\\parquet.py:493\u001b[0m, in \u001b[0;36mread_parquet\u001b[1;34m(path, engine, columns, storage_options, use_nullable_dtypes, **kwargs)\u001b[0m\n\u001b[0;32m    <a href='file:///c%3A/Python39/lib/site-packages/pandas/io/parquet.py?line=445'>446</a>\u001b[0m \u001b[39m\"\"\"\u001b[39;00m\n\u001b[0;32m    <a href='file:///c%3A/Python39/lib/site-packages/pandas/io/parquet.py?line=446'>447</a>\u001b[0m \u001b[39mLoad a parquet object from the file path, returning a DataFrame.\u001b[39;00m\n\u001b[0;32m    <a href='file:///c%3A/Python39/lib/site-packages/pandas/io/parquet.py?line=447'>448</a>\u001b[0m \n\u001b[1;32m   (...)\u001b[0m\n\u001b[0;32m    <a href='file:///c%3A/Python39/lib/site-packages/pandas/io/parquet.py?line=488'>489</a>\u001b[0m \u001b[39mDataFrame\u001b[39;00m\n\u001b[0;32m    <a href='file:///c%3A/Python39/lib/site-packages/pandas/io/parquet.py?line=489'>490</a>\u001b[0m \u001b[39m\"\"\"\u001b[39;00m\n\u001b[0;32m    <a href='file:///c%3A/Python39/lib/site-packages/pandas/io/parquet.py?line=490'>491</a>\u001b[0m impl \u001b[39m=\u001b[39m get_engine(engine)\n\u001b[1;32m--> <a href='file:///c%3A/Python39/lib/site-packages/pandas/io/parquet.py?line=492'>493</a>\u001b[0m \u001b[39mreturn\u001b[39;00m impl\u001b[39m.\u001b[39mread(\n\u001b[0;32m    <a href='file:///c%3A/Python39/lib/site-packages/pandas/io/parquet.py?line=493'>494</a>\u001b[0m     path,\n\u001b[0;32m    <a href='file:///c%3A/Python39/lib/site-packages/pandas/io/parquet.py?line=494'>495</a>\u001b[0m     columns\u001b[39m=\u001b[39mcolumns,\n\u001b[0;32m    <a href='file:///c%3A/Python39/lib/site-packages/pandas/io/parquet.py?line=495'>496</a>\u001b[0m     storage_options\u001b[39m=\u001b[39mstorage_options,\n\u001b[0;32m    <a href='file:///c%3A/Python39/lib/site-packages/pandas/io/parquet.py?line=496'>497</a>\u001b[0m     use_nullable_dtypes\u001b[39m=\u001b[39muse_nullable_dtypes,\n\u001b[0;32m    <a href='file:///c%3A/Python39/lib/site-packages/pandas/io/parquet.py?line=497'>498</a>\u001b[0m     \u001b[39m*\u001b[39m\u001b[39m*\u001b[39mkwargs,\n\u001b[0;32m    <a href='file:///c%3A/Python39/lib/site-packages/pandas/io/parquet.py?line=498'>499</a>\u001b[0m )\n",
      "File \u001b[1;32mc:\\Python39\\lib\\site-packages\\pandas\\io\\parquet.py:233\u001b[0m, in \u001b[0;36mPyArrowImpl.read\u001b[1;34m(self, path, columns, use_nullable_dtypes, storage_options, **kwargs)\u001b[0m\n\u001b[0;32m    <a href='file:///c%3A/Python39/lib/site-packages/pandas/io/parquet.py?line=229'>230</a>\u001b[0m \u001b[39mif\u001b[39;00m manager \u001b[39m==\u001b[39m \u001b[39m\"\u001b[39m\u001b[39marray\u001b[39m\u001b[39m\"\u001b[39m:\n\u001b[0;32m    <a href='file:///c%3A/Python39/lib/site-packages/pandas/io/parquet.py?line=230'>231</a>\u001b[0m     to_pandas_kwargs[\u001b[39m\"\u001b[39m\u001b[39msplit_blocks\u001b[39m\u001b[39m\"\u001b[39m] \u001b[39m=\u001b[39m \u001b[39mTrue\u001b[39;00m  \u001b[39m# type: ignore[assignment]\u001b[39;00m\n\u001b[1;32m--> <a href='file:///c%3A/Python39/lib/site-packages/pandas/io/parquet.py?line=232'>233</a>\u001b[0m path_or_handle, handles, kwargs[\u001b[39m\"\u001b[39m\u001b[39mfilesystem\u001b[39m\u001b[39m\"\u001b[39m] \u001b[39m=\u001b[39m _get_path_or_handle(\n\u001b[0;32m    <a href='file:///c%3A/Python39/lib/site-packages/pandas/io/parquet.py?line=233'>234</a>\u001b[0m     path,\n\u001b[0;32m    <a href='file:///c%3A/Python39/lib/site-packages/pandas/io/parquet.py?line=234'>235</a>\u001b[0m     kwargs\u001b[39m.\u001b[39;49mpop(\u001b[39m\"\u001b[39;49m\u001b[39mfilesystem\u001b[39;49m\u001b[39m\"\u001b[39;49m, \u001b[39mNone\u001b[39;49;00m),\n\u001b[0;32m    <a href='file:///c%3A/Python39/lib/site-packages/pandas/io/parquet.py?line=235'>236</a>\u001b[0m     storage_options\u001b[39m=\u001b[39;49mstorage_options,\n\u001b[0;32m    <a href='file:///c%3A/Python39/lib/site-packages/pandas/io/parquet.py?line=236'>237</a>\u001b[0m     mode\u001b[39m=\u001b[39;49m\u001b[39m\"\u001b[39;49m\u001b[39mrb\u001b[39;49m\u001b[39m\"\u001b[39;49m,\n\u001b[0;32m    <a href='file:///c%3A/Python39/lib/site-packages/pandas/io/parquet.py?line=237'>238</a>\u001b[0m )\n\u001b[0;32m    <a href='file:///c%3A/Python39/lib/site-packages/pandas/io/parquet.py?line=238'>239</a>\u001b[0m \u001b[39mtry\u001b[39;00m:\n\u001b[0;32m    <a href='file:///c%3A/Python39/lib/site-packages/pandas/io/parquet.py?line=239'>240</a>\u001b[0m     result \u001b[39m=\u001b[39m \u001b[39mself\u001b[39m\u001b[39m.\u001b[39mapi\u001b[39m.\u001b[39mparquet\u001b[39m.\u001b[39mread_table(\n\u001b[0;32m    <a href='file:///c%3A/Python39/lib/site-packages/pandas/io/parquet.py?line=240'>241</a>\u001b[0m         path_or_handle, columns\u001b[39m=\u001b[39mcolumns, \u001b[39m*\u001b[39m\u001b[39m*\u001b[39mkwargs\n\u001b[0;32m    <a href='file:///c%3A/Python39/lib/site-packages/pandas/io/parquet.py?line=241'>242</a>\u001b[0m     )\u001b[39m.\u001b[39mto_pandas(\u001b[39m*\u001b[39m\u001b[39m*\u001b[39mto_pandas_kwargs)\n",
      "File \u001b[1;32mc:\\Python39\\lib\\site-packages\\pandas\\io\\parquet.py:102\u001b[0m, in \u001b[0;36m_get_path_or_handle\u001b[1;34m(path, fs, storage_options, mode, is_dir)\u001b[0m\n\u001b[0;32m     <a href='file:///c%3A/Python39/lib/site-packages/pandas/io/parquet.py?line=91'>92</a>\u001b[0m handles \u001b[39m=\u001b[39m \u001b[39mNone\u001b[39;00m\n\u001b[0;32m     <a href='file:///c%3A/Python39/lib/site-packages/pandas/io/parquet.py?line=92'>93</a>\u001b[0m \u001b[39mif\u001b[39;00m (\n\u001b[0;32m     <a href='file:///c%3A/Python39/lib/site-packages/pandas/io/parquet.py?line=93'>94</a>\u001b[0m     \u001b[39mnot\u001b[39;00m fs\n\u001b[0;32m     <a href='file:///c%3A/Python39/lib/site-packages/pandas/io/parquet.py?line=94'>95</a>\u001b[0m     \u001b[39mand\u001b[39;00m \u001b[39mnot\u001b[39;00m is_dir\n\u001b[1;32m   (...)\u001b[0m\n\u001b[0;32m    <a href='file:///c%3A/Python39/lib/site-packages/pandas/io/parquet.py?line=99'>100</a>\u001b[0m     \u001b[39m# fsspec resources can also point to directories\u001b[39;00m\n\u001b[0;32m    <a href='file:///c%3A/Python39/lib/site-packages/pandas/io/parquet.py?line=100'>101</a>\u001b[0m     \u001b[39m# this branch is used for example when reading from non-fsspec URLs\u001b[39;00m\n\u001b[1;32m--> <a href='file:///c%3A/Python39/lib/site-packages/pandas/io/parquet.py?line=101'>102</a>\u001b[0m     handles \u001b[39m=\u001b[39m get_handle(\n\u001b[0;32m    <a href='file:///c%3A/Python39/lib/site-packages/pandas/io/parquet.py?line=102'>103</a>\u001b[0m         path_or_handle, mode, is_text\u001b[39m=\u001b[39;49m\u001b[39mFalse\u001b[39;49;00m, storage_options\u001b[39m=\u001b[39;49mstorage_options\n\u001b[0;32m    <a href='file:///c%3A/Python39/lib/site-packages/pandas/io/parquet.py?line=103'>104</a>\u001b[0m     )\n\u001b[0;32m    <a href='file:///c%3A/Python39/lib/site-packages/pandas/io/parquet.py?line=104'>105</a>\u001b[0m     fs \u001b[39m=\u001b[39m \u001b[39mNone\u001b[39;00m\n\u001b[0;32m    <a href='file:///c%3A/Python39/lib/site-packages/pandas/io/parquet.py?line=105'>106</a>\u001b[0m     path_or_handle \u001b[39m=\u001b[39m handles\u001b[39m.\u001b[39mhandle\n",
      "File \u001b[1;32mc:\\Python39\\lib\\site-packages\\pandas\\io\\common.py:795\u001b[0m, in \u001b[0;36mget_handle\u001b[1;34m(path_or_buf, mode, encoding, compression, memory_map, is_text, errors, storage_options)\u001b[0m\n\u001b[0;32m    <a href='file:///c%3A/Python39/lib/site-packages/pandas/io/common.py?line=785'>786</a>\u001b[0m         handle \u001b[39m=\u001b[39m \u001b[39mopen\u001b[39m(\n\u001b[0;32m    <a href='file:///c%3A/Python39/lib/site-packages/pandas/io/common.py?line=786'>787</a>\u001b[0m             handle,\n\u001b[0;32m    <a href='file:///c%3A/Python39/lib/site-packages/pandas/io/common.py?line=787'>788</a>\u001b[0m             ioargs\u001b[39m.\u001b[39mmode,\n\u001b[1;32m   (...)\u001b[0m\n\u001b[0;32m    <a href='file:///c%3A/Python39/lib/site-packages/pandas/io/common.py?line=790'>791</a>\u001b[0m             newline\u001b[39m=\u001b[39m\u001b[39m\"\u001b[39m\u001b[39m\"\u001b[39m,\n\u001b[0;32m    <a href='file:///c%3A/Python39/lib/site-packages/pandas/io/common.py?line=791'>792</a>\u001b[0m         )\n\u001b[0;32m    <a href='file:///c%3A/Python39/lib/site-packages/pandas/io/common.py?line=792'>793</a>\u001b[0m     \u001b[39melse\u001b[39;00m:\n\u001b[0;32m    <a href='file:///c%3A/Python39/lib/site-packages/pandas/io/common.py?line=793'>794</a>\u001b[0m         \u001b[39m# Binary mode\u001b[39;00m\n\u001b[1;32m--> <a href='file:///c%3A/Python39/lib/site-packages/pandas/io/common.py?line=794'>795</a>\u001b[0m         handle \u001b[39m=\u001b[39m \u001b[39mopen\u001b[39;49m(handle, ioargs\u001b[39m.\u001b[39;49mmode)\n\u001b[0;32m    <a href='file:///c%3A/Python39/lib/site-packages/pandas/io/common.py?line=795'>796</a>\u001b[0m     handles\u001b[39m.\u001b[39mappend(handle)\n\u001b[0;32m    <a href='file:///c%3A/Python39/lib/site-packages/pandas/io/common.py?line=797'>798</a>\u001b[0m \u001b[39m# Convert BytesIO or file objects passed with an encoding\u001b[39;00m\n",
      "\u001b[1;31mOSError\u001b[0m: [Errno 22] Invalid argument: 'Data/stock_df.parquet'"
     ]
    }
   ],
   "source": [
    "stock_df = pd.read_parquet('Data/stock_df.parquet').head()\n",
    "stock_df.head()"
   ]
  },
  {
   "cell_type": "code",
   "execution_count": 53,
   "metadata": {},
   "outputs": [
    {
     "name": "stdout",
     "output_type": "stream",
     "text": [
      "[*********************100%***********************]  3 of 3 completed\n"
     ]
    }
   ],
   "source": [
    "START_DATE = stock_df.Date.max()\n",
    "stock_data = yf.download(TICKERS, START_DATE)"
   ]
  },
  {
   "cell_type": "code",
   "execution_count": 54,
   "metadata": {},
   "outputs": [
    {
     "data": {
      "text/plain": [
       "Timestamp('2022-10-04 00:00:00')"
      ]
     },
     "execution_count": 54,
     "metadata": {},
     "output_type": "execute_result"
    }
   ],
   "source": [
    "stock_data.index.max()"
   ]
  },
  {
   "cell_type": "markdown",
   "metadata": {},
   "source": [
    "Aim here:\n",
    "(1) Find a way to append anything that can be added after the latest ticker data.\n",
    "(2) Flag if any previous data has been changed."
   ]
  },
  {
   "cell_type": "code",
   "execution_count": 55,
   "metadata": {},
   "outputs": [],
   "source": [
    "from pandas.tseries.holiday import USFederalHolidayCalendar as cal"
   ]
  },
  {
   "cell_type": "code",
   "execution_count": 29,
   "metadata": {},
   "outputs": [
    {
     "data": {
      "text/plain": [
       "DatetimeIndex(['1970-01-01', '1970-02-16', '1970-05-25', '1970-07-03',\n",
       "               '1970-09-07', '1970-10-12', '1970-11-11', '1970-11-26',\n",
       "               '1970-12-25', '1971-01-01',\n",
       "               ...\n",
       "               '2200-01-20', '2200-02-17', '2200-05-26', '2200-06-19',\n",
       "               '2200-07-04', '2200-09-01', '2200-10-13', '2200-11-11',\n",
       "               '2200-11-27', '2200-12-25'],\n",
       "              dtype='datetime64[ns]', length=2474, freq=None)"
      ]
     },
     "execution_count": 29,
     "metadata": {},
     "output_type": "execute_result"
    }
   ],
   "source": [
    "cal().holidays()"
   ]
  },
  {
   "cell_type": "code",
   "execution_count": 30,
   "metadata": {},
   "outputs": [],
   "source": [
    "import datetime as dt"
   ]
  },
  {
   "cell_type": "code",
   "execution_count": 32,
   "metadata": {},
   "outputs": [
    {
     "ename": "ValueError",
     "evalue": "Invalid business day weekmask string \"1970-02-01\"",
     "output_type": "error",
     "traceback": [
      "\u001b[1;31m---------------------------------------------------------------------------\u001b[0m",
      "\u001b[1;31mValueError\u001b[0m                                Traceback (most recent call last)",
      "\u001b[1;32mg:\\My Drive\\Development\\shiny_app_in_python\\stock_analysis.ipynb Cell 15'\u001b[0m in \u001b[0;36m<cell line: 1>\u001b[1;34m()\u001b[0m\n\u001b[1;32m----> <a href='vscode-notebook-cell:/g%3A/My%20Drive/Development/shiny_app_in_python/stock_analysis.ipynb#ch0000019?line=0'>1</a>\u001b[0m np\u001b[39m.\u001b[39;49mbusdaycalendar(\u001b[39m'\u001b[39;49m\u001b[39m1970-02-01\u001b[39;49m\u001b[39m'\u001b[39;49m, \u001b[39m'\u001b[39;49m\u001b[39m1970-02-28\u001b[39;49m\u001b[39m'\u001b[39;49m)\n",
      "\u001b[1;31mValueError\u001b[0m: Invalid business day weekmask string \"1970-02-01\""
     ]
    }
   ],
   "source": [
    "np.busdaycalendar('1970-02-01', '1970-02-28')"
   ]
  },
  {
   "cell_type": "code",
   "execution_count": 36,
   "metadata": {},
   "outputs": [
    {
     "data": {
      "text/plain": [
       "numpy.busdaycalendar"
      ]
     },
     "execution_count": 36,
     "metadata": {},
     "output_type": "execute_result"
    }
   ],
   "source": [
    "np.busdaycalendar()"
   ]
  },
  {
   "cell_type": "code",
   "execution_count": 31,
   "metadata": {},
   "outputs": [
    {
     "data": {
      "text/plain": [
       "20"
      ]
     },
     "execution_count": 31,
     "metadata": {},
     "output_type": "execute_result"
    }
   ],
   "source": [
    "np.busday_count('1970-02-01', '1970-02-28')"
   ]
  }
 ],
 "metadata": {
  "interpreter": {
   "hash": "81794d4967e6c3204c66dcd87b604927b115b27c00565d3d43f05ba2f3a2cb0d"
  },
  "kernelspec": {
   "display_name": "Python 3.9.5 64-bit",
   "language": "python",
   "name": "python3"
  },
  "language_info": {
   "codemirror_mode": {
    "name": "ipython",
    "version": 3
   },
   "file_extension": ".py",
   "mimetype": "text/x-python",
   "name": "python",
   "nbconvert_exporter": "python",
   "pygments_lexer": "ipython3",
   "version": "3.9.5"
  },
  "orig_nbformat": 4
 },
 "nbformat": 4,
 "nbformat_minor": 2
}
